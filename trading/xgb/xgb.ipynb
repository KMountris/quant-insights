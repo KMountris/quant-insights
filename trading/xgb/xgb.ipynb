{
 "cells": [
  {
   "cell_type": "markdown",
   "id": "daa7bf02",
   "metadata": {},
   "source": [
    "## Generating Trade Signals Using Technical Indicators with XGBoost\n",
    "\n",
    "Trade signal generation involves identifying buy or sell signals based on historical price data and technical indicators.\n",
    "\n",
    "By training an XGBoost model on past market data, we can predict future price movements and generate trade signals.\n",
    "\n",
    "For more details, please read the corresponding Medium article [here](https://medium.com/@konstantinos.mountris/generating-trade-signals-using-technical-indicators-with-xgboost-9b78f18e3b4d).\n",
    "\n",
    "The general workflow involves the following steps:\n",
    "1. Data Collection\n",
    "2. Feature Engineering\n",
    "3. Model Training\n",
    "4. Signal Generation\n",
    "\n",
    "### Step 1: Data Collection"
   ]
  },
  {
   "cell_type": "code",
   "execution_count": 68,
   "id": "a54c8b7f",
   "metadata": {},
   "outputs": [
    {
     "data": {
      "text/html": [
       "<div>\n",
       "<style scoped>\n",
       "    .dataframe tbody tr th:only-of-type {\n",
       "        vertical-align: middle;\n",
       "    }\n",
       "\n",
       "    .dataframe tbody tr th {\n",
       "        vertical-align: top;\n",
       "    }\n",
       "\n",
       "    .dataframe thead th {\n",
       "        text-align: right;\n",
       "    }\n",
       "</style>\n",
       "<table border=\"1\" class=\"dataframe\">\n",
       "  <thead>\n",
       "    <tr style=\"text-align: right;\">\n",
       "      <th></th>\n",
       "      <th>Open</th>\n",
       "      <th>High</th>\n",
       "      <th>Low</th>\n",
       "      <th>Close</th>\n",
       "      <th>Adj Close</th>\n",
       "      <th>Volume</th>\n",
       "    </tr>\n",
       "  </thead>\n",
       "  <tbody>\n",
       "    <tr>\n",
       "      <th>count</th>\n",
       "      <td>756.000000</td>\n",
       "      <td>756.000000</td>\n",
       "      <td>756.000000</td>\n",
       "      <td>756.000000</td>\n",
       "      <td>756.000000</td>\n",
       "      <td>7.560000e+02</td>\n",
       "    </tr>\n",
       "    <tr>\n",
       "      <th>mean</th>\n",
       "      <td>15.982999</td>\n",
       "      <td>16.306313</td>\n",
       "      <td>15.637073</td>\n",
       "      <td>15.982407</td>\n",
       "      <td>15.953369</td>\n",
       "      <td>4.611100e+08</td>\n",
       "    </tr>\n",
       "    <tr>\n",
       "      <th>std</th>\n",
       "      <td>6.373669</td>\n",
       "      <td>6.514503</td>\n",
       "      <td>6.189719</td>\n",
       "      <td>6.348385</td>\n",
       "      <td>6.343381</td>\n",
       "      <td>1.982675e+08</td>\n",
       "    </tr>\n",
       "    <tr>\n",
       "      <th>min</th>\n",
       "      <td>5.002500</td>\n",
       "      <td>5.248500</td>\n",
       "      <td>4.517000</td>\n",
       "      <td>4.910000</td>\n",
       "      <td>4.893182</td>\n",
       "      <td>9.788400e+07</td>\n",
       "    </tr>\n",
       "    <tr>\n",
       "      <th>25%</th>\n",
       "      <td>12.506500</td>\n",
       "      <td>12.733750</td>\n",
       "      <td>12.164125</td>\n",
       "      <td>12.515625</td>\n",
       "      <td>12.492046</td>\n",
       "      <td>2.990020e+08</td>\n",
       "    </tr>\n",
       "    <tr>\n",
       "      <th>50%</th>\n",
       "      <td>14.719000</td>\n",
       "      <td>14.937875</td>\n",
       "      <td>14.297750</td>\n",
       "      <td>14.613250</td>\n",
       "      <td>14.600136</td>\n",
       "      <td>4.410060e+08</td>\n",
       "    </tr>\n",
       "    <tr>\n",
       "      <th>75%</th>\n",
       "      <td>19.873126</td>\n",
       "      <td>20.129250</td>\n",
       "      <td>19.435750</td>\n",
       "      <td>19.856625</td>\n",
       "      <td>19.820983</td>\n",
       "      <td>5.804800e+08</td>\n",
       "    </tr>\n",
       "    <tr>\n",
       "      <th>max</th>\n",
       "      <td>33.516998</td>\n",
       "      <td>34.646999</td>\n",
       "      <td>32.035999</td>\n",
       "      <td>33.375999</td>\n",
       "      <td>33.321648</td>\n",
       "      <td>1.463684e+09</td>\n",
       "    </tr>\n",
       "  </tbody>\n",
       "</table>\n",
       "</div>"
      ],
      "text/plain": [
       "             Open        High         Low       Close   Adj Close  \\\n",
       "count  756.000000  756.000000  756.000000  756.000000  756.000000   \n",
       "mean    15.982999   16.306313   15.637073   15.982407   15.953369   \n",
       "std      6.373669    6.514503    6.189719    6.348385    6.343381   \n",
       "min      5.002500    5.248500    4.517000    4.910000    4.893182   \n",
       "25%     12.506500   12.733750   12.164125   12.515625   12.492046   \n",
       "50%     14.719000   14.937875   14.297750   14.613250   14.600136   \n",
       "75%     19.873126   20.129250   19.435750   19.856625   19.820983   \n",
       "max     33.516998   34.646999   32.035999   33.375999   33.321648   \n",
       "\n",
       "             Volume  \n",
       "count  7.560000e+02  \n",
       "mean   4.611100e+08  \n",
       "std    1.982675e+08  \n",
       "min    9.788400e+07  \n",
       "25%    2.990020e+08  \n",
       "50%    4.410060e+08  \n",
       "75%    5.804800e+08  \n",
       "max    1.463684e+09  "
      ]
     },
     "execution_count": 68,
     "metadata": {},
     "output_type": "execute_result"
    }
   ],
   "source": [
    "import yfinance as yf\n",
    "import pandas as pd\n",
    "\n",
    "# Fetch historical data for a stock (e.g., NVIDIA)\n",
    "ticker = 'NVDA'\n",
    "data = yf.download(\n",
    "    ticker,\n",
    "    start='2020-01-01',\n",
    "    end='2023-01-01',\n",
    "    interval='1d',\n",
    "    progress=False)\n",
    "\n",
    "# Display descriptive statistics for the stock\n",
    "data.describe()"
   ]
  },
  {
   "cell_type": "markdown",
   "id": "4f4ba44b",
   "metadata": {},
   "source": [
    "### Step 2: Feature Engineering\n",
    "\n",
    "We use the following common indicators as features for our model:\n",
    "* Simple Moving Average (SMA)\n",
    "* Exponential Moving Average (EMA)\n",
    "* Relative Strength Index (RSI)\n",
    "* Moving Average Convergence Divergence (MACD)\n",
    "* Bollinger Bands (BB_High/BB_Low)"
   ]
  },
  {
   "cell_type": "code",
   "execution_count": 57,
   "id": "0d4deb0c",
   "metadata": {},
   "outputs": [],
   "source": [
    "import ta\n",
    "\n",
    "# Calculate technical indicators\n",
    "data['SMA'] = ta.trend.sma_indicator(data['Close'], window=20)\n",
    "data['EMA'] = ta.trend.ema_indicator(data['Close'], window=20)\n",
    "data['RSI'] = ta.momentum.rsi(data['Close'], window=14)\n",
    "data['MACD'] = ta.trend.macd(data['Close'])\n",
    "data['MACD_Signal'] = ta.trend.macd_signal(data['Close'])\n",
    "data['BB_High'] = ta.volatility.bollinger_hband(data['Close'], window=20)\n",
    "data['BB_Low'] = ta.volatility.bollinger_lband(data['Close'], window=20)\n",
    "\n",
    "# Drop rows with missing values\n",
    "data.dropna(inplace=True)"
   ]
  },
  {
   "cell_type": "markdown",
   "id": "303820bc",
   "metadata": {},
   "source": [
    "### Step 3: Model Training"
   ]
  },
  {
   "cell_type": "code",
   "execution_count": 66,
   "id": "fdcc9916",
   "metadata": {},
   "outputs": [
    {
     "name": "stdout",
     "output_type": "stream",
     "text": [
      "Model Accuracy: 0.68\n"
     ]
    }
   ],
   "source": [
    "from sklearn.model_selection import train_test_split\n",
    "from xgboost import XGBClassifier\n",
    "import numpy as np\n",
    "\n",
    "# Define the target variable:\n",
    "# 1 for price increase,\n",
    "# 0 for price decrease\n",
    "data['Target'] = np.where(data['Close'].shift(-1) > data['Open'], 1, 0)\n",
    "\n",
    "# Select features and target\n",
    "features = ['SMA', 'EMA', 'RSI', 'MACD', 'MACD_Signal', 'BB_High', 'BB_Low']\n",
    "X = data[features]\n",
    "y = data['Target']\n",
    "\n",
    "# Split data into training and testing sets\n",
    "X_train, X_test, y_train, y_test = train_test_split(X, y, test_size=0.2, random_state=42)\n",
    "\n",
    "# Train the XGBoost model\n",
    "model = XGBClassifier(eval_metric='logloss')\n",
    "model.fit(X_train, y_train)\n",
    "\n",
    "# Evaluate the model\n",
    "accuracy = model.score(X_test, y_test)\n",
    "print(f'Model Accuracy: {accuracy:.2f}')"
   ]
  },
  {
   "cell_type": "markdown",
   "id": "0ea11e86",
   "metadata": {},
   "source": [
    "### Step 4: Signal Generation"
   ]
  },
  {
   "cell_type": "code",
   "execution_count": 67,
   "id": "032fa8e9",
   "metadata": {},
   "outputs": [
    {
     "name": "stdout",
     "output_type": "stream",
     "text": [
      "                             Open   Close Signal\n",
      "Date                                            \n",
      "2022-12-23 00:00:00-05:00  15.196  15.206    Buy\n",
      "2022-12-27 00:00:00-05:00  15.074  14.121   Sell\n",
      "2022-12-28 00:00:00-05:00  13.927  14.036    Buy\n",
      "2022-12-29 00:00:00-05:00  14.402  14.603   Sell\n",
      "2022-12-30 00:00:00-05:00  14.334  14.614   Sell\n"
     ]
    }
   ],
   "source": [
    "# Generate trade signals\n",
    "pred = model.predict(X)\n",
    "data['Signal'] = np.where(pred == 1, 'Buy', 'Sell')\n",
    "\n",
    "# Display the trade signals for the last few days\n",
    "print(data[['Open','Close','Signal']].tail())"
   ]
  },
  {
   "cell_type": "code",
   "execution_count": null,
   "id": "01b6786f",
   "metadata": {},
   "outputs": [],
   "source": []
  }
 ],
 "metadata": {
  "kernelspec": {
   "display_name": "Python 3 (ipykernel)",
   "language": "python",
   "name": "python3"
  },
  "language_info": {
   "codemirror_mode": {
    "name": "ipython",
    "version": 3
   },
   "file_extension": ".py",
   "mimetype": "text/x-python",
   "name": "python",
   "nbconvert_exporter": "python",
   "pygments_lexer": "ipython3",
   "version": "3.9.17"
  }
 },
 "nbformat": 4,
 "nbformat_minor": 5
}
